{
  "nbformat": 4,
  "nbformat_minor": 0,
  "metadata": {
    "colab": {
      "name": "finalproject.ipynb",
      "provenance": [],
      "collapsed_sections": [],
      "authorship_tag": "ABX9TyP58wDqVZW2DWR0ZcHxzocP",
      "include_colab_link": true
    },
    "kernelspec": {
      "name": "python3",
      "display_name": "Python 3"
    }
  },
  "cells": [
    {
      "cell_type": "markdown",
      "metadata": {
        "id": "view-in-github",
        "colab_type": "text"
      },
      "source": [
        "<a href=\"https://colab.research.google.com/github/cceydae/GlobalAIHubPythonCourse/blob/main/finalproject.ipynb\" target=\"_parent\"><img src=\"https://colab.research.google.com/assets/colab-badge.svg\" alt=\"Open In Colab\"/></a>"
      ]
    },
    {
      "cell_type": "code",
      "metadata": {
        "id": "umAwh_MqR56q"
      },
      "source": [
        "questions = {\"Türkiyenin başkenti neresidir?\" : \"Ankara\" , \r\n",
        "             \"Gece gündüz eşitliği bir yılda kaç kez gerçekleşir?\" : \"2\" ,\r\n",
        "             \"Atatürk kaç yılında doğmuştur?\" : \"1938\" ,\r\n",
        "             \"Kadınlara seçme ve seçilme hakkı tanıyan ilk ülke hangisidir?\" : \"Türkiye\" ,\r\n",
        "             \"Hayvanları koruma günü hangi gündür?\" : \"4 Eylül\" , \r\n",
        "             \"Bowling oyununda bir oyuncunun alabileceği en yüksek puan kaçtır?\" : \"300\" ,\r\n",
        "             \"Bir zarın kaç köşesi vardır?\" : \"8\" ,\r\n",
        "             \"Olimpiyat bayrağı üzerinde bulunan iç içe geçmiş 5 renkli halka neyi temsil eder?\" : \"Kıtaları\" ,\r\n",
        "             \"Hamlet oyununda, Hamletin elinde tutarak olmak ya da olmamak repliğini söylediği kafatası oyundaki hangi karaktere aittir?\" : \"Yorick\" ,\r\n",
        "             \"Güney Amerika kıtasında kaç ülke vardır?\" : \"12\"}"
      ],
      "execution_count": 1,
      "outputs": []
    },
    {
      "cell_type": "code",
      "metadata": {
        "id": "9H5wh2ZFXVzS"
      },
      "source": [
        "totalScore = 0\r\n",
        "for i in questions.keys():\r\n",
        "    answer = str(input(i + \": \"))\r\n",
        "    if answer.strip().lower() == questions[i].lower():\r\n",
        "      totalScore += 1\r\n",
        "      print(\"Doğru\")\r\n",
        "    else:\r\n",
        "      print(\"Yanlış\")\r\n",
        "print(\"\\n\\n\")\r\n",
        "if totalScore > 5:\r\n",
        "  print(\"Tebrikler başardınız :)\")\r\n",
        "else:\r\n",
        "  print(\"Kaybettiniz, bir dahaki sefere görüşmek üzere...\")\r\n",
        "print(\"Puanınız: \" + str(totalScore))"
      ],
      "execution_count": null,
      "outputs": []
    }
  ]
}